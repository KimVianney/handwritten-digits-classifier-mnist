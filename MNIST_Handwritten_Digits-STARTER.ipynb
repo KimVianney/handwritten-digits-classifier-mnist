{
 "cells": [
  {
   "cell_type": "markdown",
   "metadata": {},
   "source": [
    "# Introduction\n",
    "\n",
    "In this project, you will build a neural network of your own design to evaluate the MNIST dataset.\n",
    "\n",
    "Some of the benchmark results on MNIST include can be found [on Yann LeCun's page](http://yann.lecun.com/exdb/mnist/) and include:\n",
    "\n",
    "88% [Lecun et al., 1998](http://yann.lecun.com/exdb/publis/pdf/lecun-98.pdf)\n",
    "95.3% [Lecun et al., 1998](http://yann.lecun.com/exdb/publis/pdf/lecun-98.pdf)\n",
    "99.65% [Ciresan et al., 2011](http://people.idsia.ch/~juergen/ijcai2011.pdf)\n",
    "\n",
    "MNIST is a great dataset for sanity checking your models, since the accuracy levels achieved by large convolutional neural networks and small linear models are both quite high. This makes it important to be familiar with the data.\n",
    "\n",
    "## Installation"
   ]
  },
  {
   "cell_type": "code",
   "execution_count": 1,
   "metadata": {
    "tags": []
   },
   "outputs": [],
   "source": [
    "# Update the PATH to include the user installation directory. \n",
    "import os\n",
    "os.environ['PATH'] = f\"{os.environ['PATH']}:/root/.local/bin\"\n",
    "\n",
    "# Restart the Kernel before you move on to the next step."
   ]
  },
  {
   "cell_type": "markdown",
   "metadata": {},
   "source": [
    "#### Important: Restart the Kernel before you move on to the next step."
   ]
  },
  {
   "cell_type": "code",
   "execution_count": 2,
   "metadata": {
    "tags": []
   },
   "outputs": [
    {
     "name": "stdout",
     "output_type": "stream",
     "text": [
      "Collecting opencv-python-headless==4.5.3.56 (from -r requirements.txt (line 1))\n",
      "  Using cached opencv_python_headless-4.5.3.56-cp38-cp38-manylinux2014_x86_64.whl (37.1 MB)\n",
      "Collecting matplotlib==3.4.3 (from -r requirements.txt (line 2))\n",
      "  Using cached matplotlib-3.4.3-cp38-cp38-manylinux1_x86_64.whl (10.3 MB)\n",
      "Collecting numpy==1.21.2 (from -r requirements.txt (line 3))\n",
      "  Using cached numpy-1.21.2-cp38-cp38-manylinux_2_12_x86_64.manylinux2010_x86_64.whl (15.8 MB)\n",
      "Collecting pillow==7.0.0 (from -r requirements.txt (line 4))\n",
      "  Using cached Pillow-7.0.0-cp38-cp38-manylinux1_x86_64.whl (2.1 MB)\n",
      "Collecting bokeh==2.1.1 (from -r requirements.txt (line 5))\n",
      "  Using cached bokeh-2.1.1-py3-none-any.whl\n",
      "Collecting torch==1.11.0 (from -r requirements.txt (line 6))\n",
      "  Using cached torch-1.11.0-cp38-cp38-manylinux1_x86_64.whl (750.6 MB)\n",
      "Collecting torchvision==0.12.0 (from -r requirements.txt (line 7))\n",
      "  Using cached torchvision-0.12.0-cp38-cp38-manylinux1_x86_64.whl (21.0 MB)\n",
      "Collecting tqdm==4.63.0 (from -r requirements.txt (line 8))\n",
      "  Using cached tqdm-4.63.0-py2.py3-none-any.whl (76 kB)\n",
      "Collecting ipywidgets==7.7.0 (from -r requirements.txt (line 9))\n",
      "  Using cached ipywidgets-7.7.0-py2.py3-none-any.whl (123 kB)\n",
      "Collecting livelossplot==0.5.4 (from -r requirements.txt (line 10))\n",
      "  Using cached livelossplot-0.5.4-py3-none-any.whl (22 kB)\n",
      "Collecting pytest==7.1.1 (from -r requirements.txt (line 11))\n",
      "  Using cached pytest-7.1.1-py3-none-any.whl (297 kB)\n",
      "Collecting pandas==1.3.5 (from -r requirements.txt (line 12))\n",
      "  Using cached pandas-1.3.5-cp38-cp38-manylinux_2_17_x86_64.manylinux2014_x86_64.whl (11.5 MB)\n",
      "Collecting seaborn==0.11.2 (from -r requirements.txt (line 13))\n",
      "  Using cached seaborn-0.11.2-py3-none-any.whl (292 kB)\n",
      "Collecting jupyter==1.0.0 (from -r requirements.txt (line 14))\n",
      "  Using cached jupyter-1.0.0-py2.py3-none-any.whl (2.7 kB)\n",
      "Collecting ipykernel==4.10.0 (from -r requirements.txt (line 15))\n",
      "  Using cached ipykernel-4.10.0-py3-none-any.whl (109 kB)\n",
      "Requirement already satisfied: cycler>=0.10 in /opt/conda/envs/sagemaker-distribution/lib/python3.8/site-packages (from matplotlib==3.4.3->-r requirements.txt (line 2)) (0.11.0)\n",
      "Requirement already satisfied: kiwisolver>=1.0.1 in /opt/conda/envs/sagemaker-distribution/lib/python3.8/site-packages (from matplotlib==3.4.3->-r requirements.txt (line 2)) (1.4.4)\n",
      "Requirement already satisfied: pyparsing>=2.2.1 in /opt/conda/envs/sagemaker-distribution/lib/python3.8/site-packages (from matplotlib==3.4.3->-r requirements.txt (line 2)) (3.0.9)\n",
      "Requirement already satisfied: python-dateutil>=2.7 in /opt/conda/envs/sagemaker-distribution/lib/python3.8/site-packages (from matplotlib==3.4.3->-r requirements.txt (line 2)) (2.8.2)\n",
      "Requirement already satisfied: PyYAML>=3.10 in /opt/conda/envs/sagemaker-distribution/lib/python3.8/site-packages (from bokeh==2.1.1->-r requirements.txt (line 5)) (6.0)\n",
      "Requirement already satisfied: Jinja2>=2.7 in /opt/conda/envs/sagemaker-distribution/lib/python3.8/site-packages (from bokeh==2.1.1->-r requirements.txt (line 5)) (3.1.2)\n",
      "Requirement already satisfied: packaging>=16.8 in /opt/conda/envs/sagemaker-distribution/lib/python3.8/site-packages (from bokeh==2.1.1->-r requirements.txt (line 5)) (23.1)\n",
      "Requirement already satisfied: tornado>=5.1 in /opt/conda/envs/sagemaker-distribution/lib/python3.8/site-packages (from bokeh==2.1.1->-r requirements.txt (line 5)) (6.3.2)\n",
      "Requirement already satisfied: typing-extensions>=3.7.4 in /opt/conda/envs/sagemaker-distribution/lib/python3.8/site-packages (from bokeh==2.1.1->-r requirements.txt (line 5)) (4.5.0)\n",
      "Requirement already satisfied: requests in /opt/conda/envs/sagemaker-distribution/lib/python3.8/site-packages (from torchvision==0.12.0->-r requirements.txt (line 7)) (2.31.0)\n",
      "Requirement already satisfied: ipython-genutils~=0.2.0 in /opt/conda/envs/sagemaker-distribution/lib/python3.8/site-packages (from ipywidgets==7.7.0->-r requirements.txt (line 9)) (0.2.0)\n",
      "Requirement already satisfied: traitlets>=4.3.1 in /opt/conda/envs/sagemaker-distribution/lib/python3.8/site-packages (from ipywidgets==7.7.0->-r requirements.txt (line 9)) (5.9.0)\n",
      "Requirement already satisfied: nbformat>=4.2.0 in /opt/conda/envs/sagemaker-distribution/lib/python3.8/site-packages (from ipywidgets==7.7.0->-r requirements.txt (line 9)) (5.9.2)\n",
      "Collecting widgetsnbextension~=3.6.0 (from ipywidgets==7.7.0->-r requirements.txt (line 9))\n",
      "  Obtaining dependency information for widgetsnbextension~=3.6.0 from https://files.pythonhosted.org/packages/9c/a0/ba2634cd75b7d7f8f9aeb38edf854cd6c9877ec064013a62630b4541b88f/widgetsnbextension-3.6.6-py2.py3-none-any.whl.metadata\n",
      "  Using cached widgetsnbextension-3.6.6-py2.py3-none-any.whl.metadata (1.3 kB)\n",
      "Requirement already satisfied: ipython>=4.0.0 in /opt/conda/envs/sagemaker-distribution/lib/python3.8/site-packages (from ipywidgets==7.7.0->-r requirements.txt (line 9)) (8.12.2)\n",
      "Requirement already satisfied: jupyterlab-widgets>=1.0.0 in /opt/conda/envs/sagemaker-distribution/lib/python3.8/site-packages (from ipywidgets==7.7.0->-r requirements.txt (line 9)) (3.0.8)\n",
      "Requirement already satisfied: attrs>=19.2.0 in /opt/conda/envs/sagemaker-distribution/lib/python3.8/site-packages (from pytest==7.1.1->-r requirements.txt (line 11)) (23.1.0)\n",
      "Collecting iniconfig (from pytest==7.1.1->-r requirements.txt (line 11))\n",
      "  Using cached iniconfig-2.0.0-py3-none-any.whl (5.9 kB)\n",
      "Requirement already satisfied: pluggy<2.0,>=0.12 in /opt/conda/envs/sagemaker-distribution/lib/python3.8/site-packages (from pytest==7.1.1->-r requirements.txt (line 11)) (1.2.0)\n",
      "Collecting py>=1.8.2 (from pytest==7.1.1->-r requirements.txt (line 11))\n",
      "  Using cached py-1.11.0-py2.py3-none-any.whl (98 kB)\n",
      "Requirement already satisfied: tomli>=1.0.0 in /opt/conda/envs/sagemaker-distribution/lib/python3.8/site-packages (from pytest==7.1.1->-r requirements.txt (line 11)) (2.0.1)\n",
      "Requirement already satisfied: pytz>=2017.3 in /opt/conda/envs/sagemaker-distribution/lib/python3.8/site-packages (from pandas==1.3.5->-r requirements.txt (line 12)) (2023.3)\n",
      "Requirement already satisfied: scipy>=1.0 in /opt/conda/envs/sagemaker-distribution/lib/python3.8/site-packages (from seaborn==0.11.2->-r requirements.txt (line 13)) (1.10.1)\n",
      "Requirement already satisfied: notebook in /opt/conda/envs/sagemaker-distribution/lib/python3.8/site-packages (from jupyter==1.0.0->-r requirements.txt (line 14)) (6.5.4)\n",
      "Collecting qtconsole (from jupyter==1.0.0->-r requirements.txt (line 14))\n",
      "  Obtaining dependency information for qtconsole from https://files.pythonhosted.org/packages/24/e2/7f22137bbb7270b016f6b0efa55d7598fef6ef354ba77515956bb28e8e54/qtconsole-5.4.4-py3-none-any.whl.metadata\n",
      "  Using cached qtconsole-5.4.4-py3-none-any.whl.metadata (5.0 kB)\n",
      "Collecting jupyter-console (from jupyter==1.0.0->-r requirements.txt (line 14))\n",
      "  Using cached jupyter_console-6.6.3-py3-none-any.whl (24 kB)\n",
      "Requirement already satisfied: nbconvert in /opt/conda/envs/sagemaker-distribution/lib/python3.8/site-packages (from jupyter==1.0.0->-r requirements.txt (line 14)) (7.7.3)\n",
      "Requirement already satisfied: jupyter-client in /opt/conda/envs/sagemaker-distribution/lib/python3.8/site-packages (from ipykernel==4.10.0->-r requirements.txt (line 15)) (8.3.0)\n",
      "Requirement already satisfied: backcall in /opt/conda/envs/sagemaker-distribution/lib/python3.8/site-packages (from ipython>=4.0.0->ipywidgets==7.7.0->-r requirements.txt (line 9)) (0.2.0)\n",
      "Requirement already satisfied: decorator in /opt/conda/envs/sagemaker-distribution/lib/python3.8/site-packages (from ipython>=4.0.0->ipywidgets==7.7.0->-r requirements.txt (line 9)) (5.1.1)\n",
      "Requirement already satisfied: jedi>=0.16 in /opt/conda/envs/sagemaker-distribution/lib/python3.8/site-packages (from ipython>=4.0.0->ipywidgets==7.7.0->-r requirements.txt (line 9)) (0.19.0)\n",
      "Requirement already satisfied: matplotlib-inline in /opt/conda/envs/sagemaker-distribution/lib/python3.8/site-packages (from ipython>=4.0.0->ipywidgets==7.7.0->-r requirements.txt (line 9)) (0.1.6)\n",
      "Requirement already satisfied: pickleshare in /opt/conda/envs/sagemaker-distribution/lib/python3.8/site-packages (from ipython>=4.0.0->ipywidgets==7.7.0->-r requirements.txt (line 9)) (0.7.5)\n",
      "Requirement already satisfied: prompt-toolkit!=3.0.37,<3.1.0,>=3.0.30 in /opt/conda/envs/sagemaker-distribution/lib/python3.8/site-packages (from ipython>=4.0.0->ipywidgets==7.7.0->-r requirements.txt (line 9)) (3.0.39)\n",
      "Requirement already satisfied: pygments>=2.4.0 in /opt/conda/envs/sagemaker-distribution/lib/python3.8/site-packages (from ipython>=4.0.0->ipywidgets==7.7.0->-r requirements.txt (line 9)) (2.16.1)\n",
      "Requirement already satisfied: stack-data in /opt/conda/envs/sagemaker-distribution/lib/python3.8/site-packages (from ipython>=4.0.0->ipywidgets==7.7.0->-r requirements.txt (line 9)) (0.6.2)\n",
      "Requirement already satisfied: pexpect>4.3 in /opt/conda/envs/sagemaker-distribution/lib/python3.8/site-packages (from ipython>=4.0.0->ipywidgets==7.7.0->-r requirements.txt (line 9)) (4.8.0)\n",
      "Requirement already satisfied: MarkupSafe>=2.0 in /opt/conda/envs/sagemaker-distribution/lib/python3.8/site-packages (from Jinja2>=2.7->bokeh==2.1.1->-r requirements.txt (line 5)) (2.1.3)\n",
      "Requirement already satisfied: fastjsonschema in /opt/conda/envs/sagemaker-distribution/lib/python3.8/site-packages (from nbformat>=4.2.0->ipywidgets==7.7.0->-r requirements.txt (line 9)) (2.18.0)\n",
      "Requirement already satisfied: jsonschema>=2.6 in /opt/conda/envs/sagemaker-distribution/lib/python3.8/site-packages (from nbformat>=4.2.0->ipywidgets==7.7.0->-r requirements.txt (line 9)) (4.19.0)\n",
      "Requirement already satisfied: jupyter-core in /opt/conda/envs/sagemaker-distribution/lib/python3.8/site-packages (from nbformat>=4.2.0->ipywidgets==7.7.0->-r requirements.txt (line 9)) (5.3.0)\n",
      "Requirement already satisfied: six>=1.5 in /opt/conda/envs/sagemaker-distribution/lib/python3.8/site-packages (from python-dateutil>=2.7->matplotlib==3.4.3->-r requirements.txt (line 2)) (1.16.0)\n",
      "Requirement already satisfied: pyzmq>=17 in /opt/conda/envs/sagemaker-distribution/lib/python3.8/site-packages (from notebook->jupyter==1.0.0->-r requirements.txt (line 14)) (25.1.0)\n",
      "Requirement already satisfied: argon2-cffi in /opt/conda/envs/sagemaker-distribution/lib/python3.8/site-packages (from notebook->jupyter==1.0.0->-r requirements.txt (line 14)) (21.3.0)\n",
      "Requirement already satisfied: nest-asyncio>=1.5 in /opt/conda/envs/sagemaker-distribution/lib/python3.8/site-packages (from notebook->jupyter==1.0.0->-r requirements.txt (line 14)) (1.5.6)\n",
      "Requirement already satisfied: Send2Trash>=1.8.0 in /opt/conda/envs/sagemaker-distribution/lib/python3.8/site-packages (from notebook->jupyter==1.0.0->-r requirements.txt (line 14)) (1.8.2)\n",
      "Requirement already satisfied: terminado>=0.8.3 in /opt/conda/envs/sagemaker-distribution/lib/python3.8/site-packages (from notebook->jupyter==1.0.0->-r requirements.txt (line 14)) (0.17.1)\n",
      "Requirement already satisfied: prometheus-client in /opt/conda/envs/sagemaker-distribution/lib/python3.8/site-packages (from notebook->jupyter==1.0.0->-r requirements.txt (line 14)) (0.17.1)\n",
      "Requirement already satisfied: nbclassic>=0.4.7 in /opt/conda/envs/sagemaker-distribution/lib/python3.8/site-packages (from notebook->jupyter==1.0.0->-r requirements.txt (line 14)) (1.0.0)\n",
      "Requirement already satisfied: importlib-metadata>=4.8.3 in /opt/conda/envs/sagemaker-distribution/lib/python3.8/site-packages (from jupyter-client->ipykernel==4.10.0->-r requirements.txt (line 15)) (6.8.0)\n",
      "Requirement already satisfied: beautifulsoup4 in /opt/conda/envs/sagemaker-distribution/lib/python3.8/site-packages (from nbconvert->jupyter==1.0.0->-r requirements.txt (line 14)) (4.12.2)\n",
      "Requirement already satisfied: bleach!=5.0.0 in /opt/conda/envs/sagemaker-distribution/lib/python3.8/site-packages (from nbconvert->jupyter==1.0.0->-r requirements.txt (line 14)) (6.0.0)\n",
      "Requirement already satisfied: defusedxml in /opt/conda/envs/sagemaker-distribution/lib/python3.8/site-packages (from nbconvert->jupyter==1.0.0->-r requirements.txt (line 14)) (0.7.1)\n",
      "Requirement already satisfied: jupyterlab-pygments in /opt/conda/envs/sagemaker-distribution/lib/python3.8/site-packages (from nbconvert->jupyter==1.0.0->-r requirements.txt (line 14)) (0.2.2)\n",
      "Requirement already satisfied: mistune<4,>=2.0.3 in /opt/conda/envs/sagemaker-distribution/lib/python3.8/site-packages (from nbconvert->jupyter==1.0.0->-r requirements.txt (line 14)) (3.0.0)\n",
      "Requirement already satisfied: nbclient>=0.5.0 in /opt/conda/envs/sagemaker-distribution/lib/python3.8/site-packages (from nbconvert->jupyter==1.0.0->-r requirements.txt (line 14)) (0.8.0)\n",
      "Requirement already satisfied: pandocfilters>=1.4.1 in /opt/conda/envs/sagemaker-distribution/lib/python3.8/site-packages (from nbconvert->jupyter==1.0.0->-r requirements.txt (line 14)) (1.5.0)\n",
      "Requirement already satisfied: tinycss2 in /opt/conda/envs/sagemaker-distribution/lib/python3.8/site-packages (from nbconvert->jupyter==1.0.0->-r requirements.txt (line 14)) (1.2.1)\n",
      "INFO: pip is looking at multiple versions of jupyter-console to determine which version is compatible with other requirements. This could take a while.\n",
      "  Using cached jupyter_console-6.6.2-py3-none-any.whl (24 kB)\n",
      "  Using cached jupyter_console-6.6.1-py3-none-any.whl (24 kB)\n",
      "  Using cached jupyter_console-6.6.0-py3-none-any.whl (24 kB)\n",
      "  Using cached jupyter_console-6.5.1-py3-none-any.whl (23 kB)\n",
      "  Using cached jupyter_console-6.5.0-py3-none-any.whl (23 kB)\n",
      "  Using cached jupyter_console-6.4.4-py3-none-any.whl (22 kB)\n",
      "Collecting qtpy>=2.4.0 (from qtconsole->jupyter==1.0.0->-r requirements.txt (line 14))\n",
      "  Obtaining dependency information for qtpy>=2.4.0 from https://files.pythonhosted.org/packages/be/a1/13bdd2f6237379744c52cec33d417a5819a07455d880e3c5f517c13a0f21/QtPy-2.4.0-py3-none-any.whl.metadata\n",
      "  Using cached QtPy-2.4.0-py3-none-any.whl.metadata (12 kB)\n",
      "Requirement already satisfied: charset-normalizer<4,>=2 in /opt/conda/envs/sagemaker-distribution/lib/python3.8/site-packages (from requests->torchvision==0.12.0->-r requirements.txt (line 7)) (3.2.0)\n",
      "Requirement already satisfied: idna<4,>=2.5 in /opt/conda/envs/sagemaker-distribution/lib/python3.8/site-packages (from requests->torchvision==0.12.0->-r requirements.txt (line 7)) (3.4)\n",
      "Requirement already satisfied: urllib3<3,>=1.21.1 in /opt/conda/envs/sagemaker-distribution/lib/python3.8/site-packages (from requests->torchvision==0.12.0->-r requirements.txt (line 7)) (1.26.15)\n",
      "Requirement already satisfied: certifi>=2017.4.17 in /opt/conda/envs/sagemaker-distribution/lib/python3.8/site-packages (from requests->torchvision==0.12.0->-r requirements.txt (line 7)) (2023.7.22)\n",
      "Requirement already satisfied: webencodings in /opt/conda/envs/sagemaker-distribution/lib/python3.8/site-packages (from bleach!=5.0.0->nbconvert->jupyter==1.0.0->-r requirements.txt (line 14)) (0.5.1)\n",
      "Requirement already satisfied: zipp>=0.5 in /opt/conda/envs/sagemaker-distribution/lib/python3.8/site-packages (from importlib-metadata>=4.8.3->jupyter-client->ipykernel==4.10.0->-r requirements.txt (line 15)) (3.16.2)\n",
      "Requirement already satisfied: parso<0.9.0,>=0.8.3 in /opt/conda/envs/sagemaker-distribution/lib/python3.8/site-packages (from jedi>=0.16->ipython>=4.0.0->ipywidgets==7.7.0->-r requirements.txt (line 9)) (0.8.3)\n",
      "Requirement already satisfied: importlib-resources>=1.4.0 in /opt/conda/envs/sagemaker-distribution/lib/python3.8/site-packages (from jsonschema>=2.6->nbformat>=4.2.0->ipywidgets==7.7.0->-r requirements.txt (line 9)) (6.0.1)\n",
      "Requirement already satisfied: jsonschema-specifications>=2023.03.6 in /opt/conda/envs/sagemaker-distribution/lib/python3.8/site-packages (from jsonschema>=2.6->nbformat>=4.2.0->ipywidgets==7.7.0->-r requirements.txt (line 9)) (2023.7.1)\n",
      "Requirement already satisfied: pkgutil-resolve-name>=1.3.10 in /opt/conda/envs/sagemaker-distribution/lib/python3.8/site-packages (from jsonschema>=2.6->nbformat>=4.2.0->ipywidgets==7.7.0->-r requirements.txt (line 9)) (1.3.10)\n",
      "Requirement already satisfied: referencing>=0.28.4 in /opt/conda/envs/sagemaker-distribution/lib/python3.8/site-packages (from jsonschema>=2.6->nbformat>=4.2.0->ipywidgets==7.7.0->-r requirements.txt (line 9)) (0.30.2)\n",
      "Requirement already satisfied: rpds-py>=0.7.1 in /opt/conda/envs/sagemaker-distribution/lib/python3.8/site-packages (from jsonschema>=2.6->nbformat>=4.2.0->ipywidgets==7.7.0->-r requirements.txt (line 9)) (0.9.2)\n",
      "Requirement already satisfied: platformdirs>=2.5 in /opt/conda/envs/sagemaker-distribution/lib/python3.8/site-packages (from jupyter-core->nbformat>=4.2.0->ipywidgets==7.7.0->-r requirements.txt (line 9)) (3.5.1)\n",
      "Requirement already satisfied: jupyter-server>=1.8 in /opt/conda/envs/sagemaker-distribution/lib/python3.8/site-packages (from nbclassic>=0.4.7->notebook->jupyter==1.0.0->-r requirements.txt (line 14)) (2.7.0)\n",
      "Requirement already satisfied: notebook-shim>=0.2.3 in /opt/conda/envs/sagemaker-distribution/lib/python3.8/site-packages (from nbclassic>=0.4.7->notebook->jupyter==1.0.0->-r requirements.txt (line 14)) (0.2.3)\n",
      "Requirement already satisfied: ptyprocess>=0.5 in /opt/conda/envs/sagemaker-distribution/lib/python3.8/site-packages (from pexpect>4.3->ipython>=4.0.0->ipywidgets==7.7.0->-r requirements.txt (line 9)) (0.7.0)\n",
      "Requirement already satisfied: wcwidth in /opt/conda/envs/sagemaker-distribution/lib/python3.8/site-packages (from prompt-toolkit!=3.0.37,<3.1.0,>=3.0.30->ipython>=4.0.0->ipywidgets==7.7.0->-r requirements.txt (line 9)) (0.2.6)\n",
      "Requirement already satisfied: argon2-cffi-bindings in /opt/conda/envs/sagemaker-distribution/lib/python3.8/site-packages (from argon2-cffi->notebook->jupyter==1.0.0->-r requirements.txt (line 14)) (21.2.0)\n",
      "Requirement already satisfied: soupsieve>1.2 in /opt/conda/envs/sagemaker-distribution/lib/python3.8/site-packages (from beautifulsoup4->nbconvert->jupyter==1.0.0->-r requirements.txt (line 14)) (2.3.2.post1)\n",
      "Requirement already satisfied: executing>=1.2.0 in /opt/conda/envs/sagemaker-distribution/lib/python3.8/site-packages (from stack-data->ipython>=4.0.0->ipywidgets==7.7.0->-r requirements.txt (line 9)) (1.2.0)\n",
      "Requirement already satisfied: asttokens>=2.1.0 in /opt/conda/envs/sagemaker-distribution/lib/python3.8/site-packages (from stack-data->ipython>=4.0.0->ipywidgets==7.7.0->-r requirements.txt (line 9)) (2.2.1)\n",
      "Requirement already satisfied: pure-eval in /opt/conda/envs/sagemaker-distribution/lib/python3.8/site-packages (from stack-data->ipython>=4.0.0->ipywidgets==7.7.0->-r requirements.txt (line 9)) (0.2.2)\n",
      "Requirement already satisfied: anyio>=3.1.0 in /opt/conda/envs/sagemaker-distribution/lib/python3.8/site-packages (from jupyter-server>=1.8->nbclassic>=0.4.7->notebook->jupyter==1.0.0->-r requirements.txt (line 14)) (3.7.1)\n",
      "Requirement already satisfied: jupyter-events>=0.6.0 in /opt/conda/envs/sagemaker-distribution/lib/python3.8/site-packages (from jupyter-server>=1.8->nbclassic>=0.4.7->notebook->jupyter==1.0.0->-r requirements.txt (line 14)) (0.7.0)\n",
      "Requirement already satisfied: jupyter-server-terminals in /opt/conda/envs/sagemaker-distribution/lib/python3.8/site-packages (from jupyter-server>=1.8->nbclassic>=0.4.7->notebook->jupyter==1.0.0->-r requirements.txt (line 14)) (0.4.4)\n",
      "Requirement already satisfied: overrides in /opt/conda/envs/sagemaker-distribution/lib/python3.8/site-packages (from jupyter-server>=1.8->nbclassic>=0.4.7->notebook->jupyter==1.0.0->-r requirements.txt (line 14)) (7.4.0)\n",
      "Requirement already satisfied: websocket-client in /opt/conda/envs/sagemaker-distribution/lib/python3.8/site-packages (from jupyter-server>=1.8->nbclassic>=0.4.7->notebook->jupyter==1.0.0->-r requirements.txt (line 14)) (1.6.1)\n",
      "Requirement already satisfied: cffi>=1.0.1 in /opt/conda/envs/sagemaker-distribution/lib/python3.8/site-packages (from argon2-cffi-bindings->argon2-cffi->notebook->jupyter==1.0.0->-r requirements.txt (line 14)) (1.15.1)\n",
      "Requirement already satisfied: sniffio>=1.1 in /opt/conda/envs/sagemaker-distribution/lib/python3.8/site-packages (from anyio>=3.1.0->jupyter-server>=1.8->nbclassic>=0.4.7->notebook->jupyter==1.0.0->-r requirements.txt (line 14)) (1.3.0)\n",
      "Requirement already satisfied: exceptiongroup in /opt/conda/envs/sagemaker-distribution/lib/python3.8/site-packages (from anyio>=3.1.0->jupyter-server>=1.8->nbclassic>=0.4.7->notebook->jupyter==1.0.0->-r requirements.txt (line 14)) (1.1.2)\n",
      "Requirement already satisfied: pycparser in /opt/conda/envs/sagemaker-distribution/lib/python3.8/site-packages (from cffi>=1.0.1->argon2-cffi-bindings->argon2-cffi->notebook->jupyter==1.0.0->-r requirements.txt (line 14)) (2.21)\n",
      "Requirement already satisfied: python-json-logger>=2.0.4 in /opt/conda/envs/sagemaker-distribution/lib/python3.8/site-packages (from jupyter-events>=0.6.0->jupyter-server>=1.8->nbclassic>=0.4.7->notebook->jupyter==1.0.0->-r requirements.txt (line 14)) (2.0.7)\n",
      "Requirement already satisfied: rfc3339-validator in /opt/conda/envs/sagemaker-distribution/lib/python3.8/site-packages (from jupyter-events>=0.6.0->jupyter-server>=1.8->nbclassic>=0.4.7->notebook->jupyter==1.0.0->-r requirements.txt (line 14)) (0.1.4)\n",
      "Requirement already satisfied: rfc3986-validator>=0.1.1 in /opt/conda/envs/sagemaker-distribution/lib/python3.8/site-packages (from jupyter-events>=0.6.0->jupyter-server>=1.8->nbclassic>=0.4.7->notebook->jupyter==1.0.0->-r requirements.txt (line 14)) (0.1.1)\n",
      "Requirement already satisfied: fqdn in /opt/conda/envs/sagemaker-distribution/lib/python3.8/site-packages (from jsonschema>=2.6->nbformat>=4.2.0->ipywidgets==7.7.0->-r requirements.txt (line 9)) (1.5.1)\n",
      "Requirement already satisfied: isoduration in /opt/conda/envs/sagemaker-distribution/lib/python3.8/site-packages (from jsonschema>=2.6->nbformat>=4.2.0->ipywidgets==7.7.0->-r requirements.txt (line 9)) (20.11.0)\n",
      "Requirement already satisfied: jsonpointer>1.13 in /opt/conda/envs/sagemaker-distribution/lib/python3.8/site-packages (from jsonschema>=2.6->nbformat>=4.2.0->ipywidgets==7.7.0->-r requirements.txt (line 9)) (2.0)\n",
      "Requirement already satisfied: uri-template in /opt/conda/envs/sagemaker-distribution/lib/python3.8/site-packages (from jsonschema>=2.6->nbformat>=4.2.0->ipywidgets==7.7.0->-r requirements.txt (line 9)) (1.3.0)\n",
      "Requirement already satisfied: webcolors>=1.11 in /opt/conda/envs/sagemaker-distribution/lib/python3.8/site-packages (from jsonschema>=2.6->nbformat>=4.2.0->ipywidgets==7.7.0->-r requirements.txt (line 9)) (1.13)\n",
      "Requirement already satisfied: arrow>=0.15.0 in /opt/conda/envs/sagemaker-distribution/lib/python3.8/site-packages (from isoduration->jsonschema>=2.6->nbformat>=4.2.0->ipywidgets==7.7.0->-r requirements.txt (line 9)) (1.2.3)\n",
      "Using cached widgetsnbextension-3.6.6-py2.py3-none-any.whl (1.6 MB)\n",
      "Using cached qtconsole-5.4.4-py3-none-any.whl (121 kB)\n",
      "Using cached QtPy-2.4.0-py3-none-any.whl (93 kB)\n",
      "Installing collected packages: tqdm, torch, qtpy, py, pillow, numpy, iniconfig, torchvision, pytest, pandas, opencv-python-headless, matplotlib, bokeh, seaborn, livelossplot, ipykernel, qtconsole, jupyter-console, widgetsnbextension, ipywidgets, jupyter\n",
      "  Attempting uninstall: tqdm\n",
      "    Found existing installation: tqdm 4.65.0\n",
      "    Uninstalling tqdm-4.65.0:\n",
      "      Successfully uninstalled tqdm-4.65.0\n",
      "  Attempting uninstall: torch\n",
      "    Found existing installation: torch 2.0.0.post101\n",
      "    Uninstalling torch-2.0.0.post101:\n",
      "      Successfully uninstalled torch-2.0.0.post101\n",
      "  Attempting uninstall: pillow\n",
      "    Found existing installation: Pillow 10.0.0\n",
      "    Uninstalling Pillow-10.0.0:\n",
      "      Successfully uninstalled Pillow-10.0.0\n",
      "  Attempting uninstall: numpy\n",
      "    Found existing installation: numpy 1.24.4\n",
      "    Uninstalling numpy-1.24.4:\n",
      "      Successfully uninstalled numpy-1.24.4\n",
      "  Attempting uninstall: torchvision\n",
      "    Found existing installation: torchvision 0.15.2a0+072ec57\n",
      "    Uninstalling torchvision-0.15.2a0+072ec57:\n",
      "      Successfully uninstalled torchvision-0.15.2a0+072ec57\n",
      "  Attempting uninstall: pandas\n",
      "    Found existing installation: pandas 2.0.3\n",
      "    Uninstalling pandas-2.0.3:\n",
      "      Successfully uninstalled pandas-2.0.3\n",
      "  Attempting uninstall: matplotlib\n",
      "    Found existing installation: matplotlib 3.7.2\n",
      "    Uninstalling matplotlib-3.7.2:\n",
      "      Successfully uninstalled matplotlib-3.7.2\n",
      "  Attempting uninstall: ipykernel\n",
      "    Found existing installation: ipykernel 6.25.0\n",
      "    Uninstalling ipykernel-6.25.0:\n",
      "      Successfully uninstalled ipykernel-6.25.0\n",
      "  Attempting uninstall: widgetsnbextension\n",
      "    Found existing installation: widgetsnbextension 4.0.8\n",
      "    Uninstalling widgetsnbextension-4.0.8:\n",
      "      Successfully uninstalled widgetsnbextension-4.0.8\n",
      "  Attempting uninstall: ipywidgets\n",
      "    Found existing installation: ipywidgets 8.1.0\n",
      "    Uninstalling ipywidgets-8.1.0:\n",
      "      Successfully uninstalled ipywidgets-8.1.0\n",
      "\u001b[31mERROR: pip's dependency resolver does not currently take into account all the packages that are installed. This behaviour is the source of the following dependency conflicts.\n",
      "tensorflow 2.12.1 requires numpy>=1.22, but you have numpy 1.21.2 which is incompatible.\u001b[0m\u001b[31m\n",
      "\u001b[0mSuccessfully installed bokeh-2.1.1 iniconfig-2.0.0 ipykernel-4.10.0 ipywidgets-7.7.0 jupyter-1.0.0 jupyter-console-6.4.4 livelossplot-0.5.4 matplotlib-3.4.3 numpy-1.21.2 opencv-python-headless-4.5.3.56 pandas-1.3.5 pillow-7.0.0 py-1.11.0 pytest-7.1.1 qtconsole-5.4.4 qtpy-2.4.0 seaborn-0.11.2 torch-1.11.0 torchvision-0.12.0 tqdm-4.63.0 widgetsnbextension-3.6.6\n"
     ]
    }
   ],
   "source": [
    "# Install requirements\n",
    "!python -m pip install -r requirements.txt"
   ]
  },
  {
   "cell_type": "markdown",
   "metadata": {},
   "source": [
    "## Imports"
   ]
  },
  {
   "cell_type": "code",
   "execution_count": 3,
   "metadata": {
    "tags": []
   },
   "outputs": [],
   "source": [
    "## This cell contains the essential imports you will need – DO NOT CHANGE THE CONTENTS! ##\n",
    "import torch\n",
    "import torch.nn as nn\n",
    "import torch.nn.functional as F\n",
    "import torch.optim as optim\n",
    "import torchvision\n",
    "import torchvision.transforms as transforms\n",
    "import matplotlib.pyplot as plt\n",
    "import numpy as np"
   ]
  },
  {
   "cell_type": "code",
   "execution_count": 4,
   "metadata": {
    "tags": []
   },
   "outputs": [],
   "source": [
    "from torch.utils.data import DataLoader"
   ]
  },
  {
   "cell_type": "markdown",
   "metadata": {},
   "source": [
    "## Load the Dataset\n",
    "\n",
    "Specify your transforms as a list if you intend to .\n",
    "The transforms module is already loaded as `transforms`.\n",
    "\n",
    "MNIST is fortunately included in the torchvision module.\n",
    "Then, you can create your dataset using the `MNIST` object from `torchvision.datasets` ([the documentation is available here](https://pytorch.org/vision/stable/datasets.html#mnist)).\n",
    "Make sure to specify `download=True`! \n",
    "\n",
    "Once your dataset is created, you'll also need to define a `DataLoader` from the `torch.utils.data` module for both the train and the test set."
   ]
  },
  {
   "cell_type": "code",
   "execution_count": 5,
   "metadata": {
    "tags": []
   },
   "outputs": [],
   "source": [
    "# Define transforms\n",
    "transform = transforms.Compose([\n",
    "                    transforms.ToTensor(),\n",
    "                    transforms.Normalize((0.5,), (0.5,))\n",
    "])\n",
    "\n",
    "# Create training set and define training dataloader\n",
    "training_data = torchvision.datasets.MNIST(root=\"data\", train=True, download=True, transform=transform)\n",
    "testing_data = torchvision.datasets.MNIST(root=\"data\", train=False, download=True, transform=transform)\n",
    "\n",
    "# Create test set and define test dataloader\n",
    "train_loader = DataLoader(training_data, batch_size=64)\n",
    "test_loader = DataLoader(testing_data, batch_size=64)"
   ]
  },
  {
   "cell_type": "markdown",
   "metadata": {},
   "source": [
    "## Justify your preprocessing\n",
    "\n",
    "In your own words, why did you choose the transforms you chose? If you didn't use any preprocessing steps, why not?"
   ]
  },
  {
   "cell_type": "markdown",
   "metadata": {},
   "source": [
    "**DOUBLE CLICK THIS CELL TO MODIFY**\n",
    "\n",
    "- I used `RandomHorizontalFlip` in order to augment the training data and improve the model's ability to generalize when training\n",
    "- I also used `Normalize` to scale the pixels of each image being used as input to our network"
   ]
  },
  {
   "cell_type": "markdown",
   "metadata": {},
   "source": [
    "## Explore the Dataset\n",
    "Using matplotlib, numpy, and torch, explore the dimensions of your data.\n",
    "\n",
    "You can view images using the `show5` function defined below – it takes a data loader as an argument.\n",
    "Remember that normalized images will look really weird to you! You may want to try changing your transforms to view images.\n",
    "Typically using no transforms other than `toTensor()` works well for viewing – but not as well for training your network.\n",
    "If `show5` doesn't work, go back and check your code for creating your data loaders and your training/test sets."
   ]
  },
  {
   "cell_type": "code",
   "execution_count": 6,
   "metadata": {
    "tags": []
   },
   "outputs": [],
   "source": [
    "## This cell contains a function for showing 5 images from a dataloader – DO NOT CHANGE THE CONTENTS! ##\n",
    "def show5(img_loader):\n",
    "    dataiter = iter(img_loader)\n",
    "    \n",
    "    batch = next(dataiter)\n",
    "    labels = batch[1][0:5]\n",
    "    images = batch[0][0:5]\n",
    "    for i in range(5):\n",
    "        print(int(labels[i].detach()))\n",
    "    \n",
    "        image = images[i].numpy()\n",
    "        plt.imshow(image.T.squeeze().T)\n",
    "        plt.show()"
   ]
  },
  {
   "cell_type": "code",
   "execution_count": 7,
   "metadata": {
    "tags": []
   },
   "outputs": [
    {
     "name": "stdout",
     "output_type": "stream",
     "text": [
      "Training dataset: 60000\n",
      "Testing dataset: 10000\n",
      "['0 - zero', '1 - one', '2 - two', '3 - three', '4 - four', '5 - five', '6 - six', '7 - seven', '8 - eight', '9 - nine']\n",
      "Number of classes: 10\n"
     ]
    }
   ],
   "source": [
    "# Explore data\n",
    "# Get length of training and test dataset\n",
    "print(f\"Training dataset: {len(training_data)}\")\n",
    "print(f\"Testing dataset: {len(testing_data)}\")\n",
    "\n",
    "#Get number of classes from the data\n",
    "print(training_data.classes)\n",
    "print(f\"Number of classes: {len(training_data.classes)}\")"
   ]
  },
  {
   "cell_type": "code",
   "execution_count": 8,
   "metadata": {
    "tags": []
   },
   "outputs": [
    {
     "name": "stdout",
     "output_type": "stream",
     "text": [
      "torch.Size([64, 1, 28, 28])\n",
      "torch.Size([64])\n"
     ]
    }
   ],
   "source": [
    "samples = next(iter(train_loader))\n",
    "\n",
    "# Identify shape of image tensors in trainloader\n",
    "for labels, images in enumerate(samples):\n",
    "    print(images.shape)\n",
    "    "
   ]
  },
  {
   "cell_type": "code",
   "execution_count": 9,
   "metadata": {
    "tags": []
   },
   "outputs": [
    {
     "name": "stdout",
     "output_type": "stream",
     "text": [
      "5\n"
     ]
    },
    {
     "data": {
      "image/png": "[encoded data removed]",
      "text/plain": [
       "<Figure size 640x480 with 1 Axes>"
      ]
     },
     "metadata": {},
     "output_type": "display_data"
    },
    {
     "name": "stdout",
     "output_type": "stream",
     "text": [
      "0\n"
     ]
    },
    {
     "data": {
      "image/png": "[encoded data removed]",
      "text/plain": [
       "<Figure size 640x480 with 1 Axes>"
      ]
     },
     "metadata": {},
     "output_type": "display_data"
    },
    {
     "name": "stdout",
     "output_type": "stream",
     "text": [
      "4\n"
     ]
    },
    {
     "data": {
      "image/png": "[encoded data removed]",
      "text/plain": [
       "<Figure size 640x480 with 1 Axes>"
      ]
     },
     "metadata": {},
     "output_type": "display_data"
    },
    {
     "name": "stdout",
     "output_type": "stream",
     "text": [
      "1\n"
     ]
    },
    {
     "data": {
      "image/png": "[encoded data removed]",
      "text/plain": [
       "<Figure size 640x480 with 1 Axes>"
      ]
     },
     "metadata": {},
     "output_type": "display_data"
    },
    {
     "name": "stdout",
     "output_type": "stream",
     "text": [
      "9\n"
     ]
    },
    {
     "data": {
      "image/png": "[encoded data removed]",
      "text/plain": [
       "<Figure size 640x480 with 1 Axes>"
      ]
     },
     "metadata": {},
     "output_type": "display_data"
    }
   ],
   "source": [
    "# Display some images from the train_loader\n",
    "show5(train_loader)"
   ]
  },
  {
   "cell_type": "markdown",
   "metadata": {},
   "source": [
    "## Build your Neural Network\n",
    "Using the layers in `torch.nn` (which has been imported as `nn`) and the `torch.nn.functional` module (imported as `F`), construct a neural network based on the parameters of the dataset.\n",
    "Use any architecture you like. \n",
    "\n",
    "*Note*: If you did not flatten your tensors in your transforms or as part of your preprocessing and you are using only `Linear` layers, make sure to use the `Flatten` layer in your network!"
   ]
  },
  {
   "cell_type": "code",
   "execution_count": 10,
   "metadata": {},
   "outputs": [],
   "source": [
    "# Build image classifier neural net\n",
    "class ImageClassifier(nn.Module):\n",
    "    def __init__(self):\n",
    "        super().__init__()\n",
    "        self.activation = F.relu\n",
    "        self.layer1 = nn.Linear(28 * 28, 128)\n",
    "        self.layer2 = nn.Linear(128, 64)\n",
    "        self.layer3 = nn.Linear(64, 10)\n",
    "        \n",
    "    def forward(self, x):\n",
    "        # x = self.dropout(x)\n",
    "        x = torch.flatten(x, 1) \n",
    "        x = self.activation(self.layer1(x))\n",
    "        # x = self.dropout(x)\n",
    "        x = self.activation(self.layer2(x))\n",
    "        # x = self.dropout(x)\n",
    "        x = self.layer3(x)\n",
    "        \n",
    "        return x"
   ]
  },
  {
   "cell_type": "code",
   "execution_count": 11,
   "metadata": {
    "tags": []
   },
   "outputs": [
    {
     "data": {
      "text/plain": [
       "device(type='cpu')"
      ]
     },
     "execution_count": 11,
     "metadata": {},
     "output_type": "execute_result"
    }
   ],
   "source": [
    "# Set device to gpu if available else cpu\n",
    "device = torch.device('cuda' if torch.cuda.is_available() else 'cpu')\n",
    "device"
   ]
  },
  {
   "cell_type": "markdown",
   "metadata": {},
   "source": [
    "Specify a loss function and an optimizer, and instantiate the model.\n",
    "\n",
    "If you use a less common loss function, please note why you chose that loss function in a comment."
   ]
  },
  {
   "cell_type": "code",
   "execution_count": 12,
   "metadata": {
    "tags": []
   },
   "outputs": [
    {
     "data": {
      "text/plain": [
       "ImageClassifier(\n",
       "  (layer1): Linear(in_features=784, out_features=128, bias=True)\n",
       "  (layer2): Linear(in_features=128, out_features=64, bias=True)\n",
       "  (layer3): Linear(in_features=64, out_features=10, bias=True)\n",
       ")"
      ]
     },
     "execution_count": 12,
     "metadata": {},
     "output_type": "execute_result"
    }
   ],
   "source": [
    "# Instantiate the model \n",
    "model = ImageClassifier()\n",
    "\n",
    "#Send model to gpu \n",
    "model.to(device)"
   ]
  },
  {
   "cell_type": "code",
   "execution_count": 13,
   "metadata": {},
   "outputs": [],
   "source": [
    "# Define optimizer to be used\n",
    "optimizer = optim.SGD(model.parameters(), lr=0.005, momentum=0.9)\n",
    "\n",
    "#Define loss function to be used\n",
    "# criterion = nn.NLLLoss()\n",
    "criterion = nn.CrossEntropyLoss()"
   ]
  },
  {
   "cell_type": "markdown",
   "metadata": {},
   "source": [
    "## Running your Neural Network\n",
    "Use whatever method you like to train your neural network, and ensure you record the average loss at each epoch. \n",
    "Don't forget to use `torch.device()` and the `.to()` method for both your model and your data if you are using GPU!\n",
    "\n",
    "If you want to print your loss **during** each epoch, you can use the `enumerate` function and print the loss after a set number of batches. 250 batches works well for most people!"
   ]
  },
  {
   "cell_type": "code",
   "execution_count": 14,
   "metadata": {},
   "outputs": [
    {
     "name": "stdout",
     "output_type": "stream",
     "text": [
      "Epoch: 1 Training accuracy: 84.14% Training loss: 0.54375\n",
      "Epoch: 1 Validation accuracy: 91.23% Validation loss: 0.27910\n",
      "================================================================================================\n",
      "Epoch: 2 Training accuracy: 92.86% Training loss: 0.23946\n",
      "Epoch: 2 Validation accuracy: 92.93% Validation loss: 0.21678\n",
      "================================================================================================\n",
      "Epoch: 3 Training accuracy: 94.72% Training loss: 0.17690\n",
      "Epoch: 3 Validation accuracy: 94.56% Validation loss: 0.16684\n",
      "================================================================================================\n",
      "Epoch: 4 Training accuracy: 95.78% Training loss: 0.14089\n",
      "Epoch: 4 Validation accuracy: 95.73% Validation loss: 0.13762\n",
      "================================================================================================\n",
      "Epoch: 5 Training accuracy: 96.50% Training loss: 0.11756\n",
      "Epoch: 5 Validation accuracy: 96.31% Validation loss: 0.12221\n",
      "================================================================================================\n",
      "Epoch: 6 Training accuracy: 97.02% Training loss: 0.10050\n",
      "Epoch: 6 Validation accuracy: 96.77% Validation loss: 0.11070\n",
      "================================================================================================\n",
      "Epoch: 7 Training accuracy: 97.41% Training loss: 0.08735\n",
      "Epoch: 7 Validation accuracy: 96.95% Validation loss: 0.10140\n",
      "================================================================================================\n",
      "Epoch: 8 Training accuracy: 97.75% Training loss: 0.07652\n",
      "Epoch: 8 Validation accuracy: 97.06% Validation loss: 0.09706\n",
      "================================================================================================\n",
      "Epoch: 9 Training accuracy: 97.97% Training loss: 0.06775\n",
      "Epoch: 9 Validation accuracy: 97.08% Validation loss: 0.09481\n",
      "================================================================================================\n",
      "Epoch: 10 Training accuracy: 98.20% Training loss: 0.06037\n",
      "Epoch: 10 Validation accuracy: 97.04% Validation loss: 0.09393\n",
      "================================================================================================\n",
      "Epoch: 11 Training accuracy: 98.40% Training loss: 0.05394\n",
      "Epoch: 11 Validation accuracy: 97.09% Validation loss: 0.09359\n",
      "================================================================================================\n",
      "Epoch: 12 Training accuracy: 98.57% Training loss: 0.04861\n",
      "Epoch: 12 Validation accuracy: 97.17% Validation loss: 0.09223\n",
      "================================================================================================\n",
      "Epoch: 13 Training accuracy: 98.72% Training loss: 0.04359\n",
      "Epoch: 13 Validation accuracy: 97.10% Validation loss: 0.09328\n",
      "================================================================================================\n",
      "Epoch: 14 Training accuracy: 98.86% Training loss: 0.03958\n",
      "Epoch: 14 Validation accuracy: 97.34% Validation loss: 0.08898\n",
      "================================================================================================\n",
      "Epoch: 15 Training accuracy: 98.99% Training loss: 0.03577\n",
      "Epoch: 15 Validation accuracy: 97.37% Validation loss: 0.09109\n",
      "================================================================================================\n",
      "Epoch: 16 Training accuracy: 99.11% Training loss: 0.03230\n",
      "Epoch: 16 Validation accuracy: 97.37% Validation loss: 0.09064\n",
      "================================================================================================\n",
      "Epoch: 17 Training accuracy: 99.24% Training loss: 0.02892\n",
      "Epoch: 17 Validation accuracy: 97.41% Validation loss: 0.08820\n",
      "================================================================================================\n",
      "Epoch: 18 Training accuracy: 99.31% Training loss: 0.02656\n",
      "Epoch: 18 Validation accuracy: 97.41% Validation loss: 0.08873\n",
      "================================================================================================\n",
      "Epoch: 19 Training accuracy: 99.37% Training loss: 0.02428\n",
      "Epoch: 19 Validation accuracy: 97.50% Validation loss: 0.08880\n",
      "================================================================================================\n",
      "Epoch: 20 Training accuracy: 99.46% Training loss: 0.02208\n",
      "Epoch: 20 Validation accuracy: 97.55% Validation loss: 0.08449\n",
      "================================================================================================\n"
     ]
    }
   ],
   "source": [
    "epochs =20\n",
    "\n",
    "train_loss_vals = []\n",
    "validation_loss_vals = []\n",
    "\n",
    "for epoch in range(epochs):\n",
    "    model.train()\n",
    "    train_loss = 0.0\n",
    "    train_correct = 0\n",
    "    \n",
    "    for images, labels in train_loader:\n",
    "        # Send to gpu if available\n",
    "        images, labels = images.to(device), labels.to(device)\n",
    "        \n",
    "        # Reset the gradient\n",
    "        optimizer.zero_grad()\n",
    "        \n",
    "        # Get outputs\n",
    "        outputs = model(images)\n",
    "        # logsoft = nn.Softmax(dim=1)\n",
    "        # Compute the error\n",
    "        loss = criterion(outputs, labels)\n",
    "        \n",
    "        # Backpropagate the error and perform gradient descent\n",
    "        loss.backward()\n",
    "        optimizer.step()\n",
    "        \n",
    "        # Compute train loss \n",
    "        _, preds = torch.max(outputs.data, 1)\n",
    "        train_correct += (preds == labels).sum().item()\n",
    "        train_loss += loss.item()\n",
    "        \n",
    "    print(f'Epoch: {epoch + 1} Training accuracy: {train_correct / train_loader.dataset.data.shape[0] * 100:.2f}% Training loss: {train_loss/len(train_loader):.5f}')\n",
    "    train_loss_vals.append(train_loss/len(train_loader))\n",
    "    \n",
    "    validation_loss = 0.0\n",
    "    validation_correct = 0\n",
    "    \n",
    "    #Set model to eval mode\n",
    "    model.eval()\n",
    "    \n",
    "    # Run validation loop\n",
    "    for images, labels in test_loader:\n",
    "        # Send to gpu\n",
    "        images, labels = images.to(device), labels.to(device)\n",
    "        \n",
    "        # Get outputs from feedforward\n",
    "        outputs = model(images)\n",
    "        \n",
    "        # Compute error\n",
    "        # logsoft = nn.LogSoftmax(dim=1)\n",
    "        loss = criterion(outputs, labels)\n",
    "        \n",
    "        # Compute validation loss\n",
    "        _, preds = torch.max(outputs.data, 1)\n",
    "        validation_correct += (preds == labels).sum().item()\n",
    "        validation_loss += loss.item()\n",
    "        \n",
    "    print(f'Epoch: {epoch + 1} Validation accuracy: {validation_correct / test_loader.dataset.data.shape[0] * 100:.2f}% Validation loss: {validation_loss/len(test_loader):.5f}')\n",
    "    print(\"================================================================================================\")\n",
    "    validation_loss_vals.append(validation_loss/len(test_loader))"
   ]
  },
  {
   "cell_type": "markdown",
   "metadata": {},
   "source": [
    "Plot the training loss (and validation loss/accuracy, if recorded)."
   ]
  },
  {
   "cell_type": "code",
   "execution_count": 15,
   "metadata": {},
   "outputs": [
    {
     "data": {
      "image/png": "[encoded data removed]",
      "text/plain": [
       "<Figure size 640x480 with 1 Axes>"
      ]
     },
     "metadata": {},
     "output_type": "display_data"
    }
   ],
   "source": [
    "%matplotlib inline\n",
    "\n",
    "plt.plot(train_loss_vals, label=\"Training Loss\")\n",
    "plt.plot(validation_loss_vals, label=\"Validation Loss\")\n",
    "plt.legend()\n",
    "plt.show()"
   ]
  },
  {
   "cell_type": "markdown",
   "metadata": {},
   "source": [
    "## Testing your model\n",
    "Using the previously created `DataLoader` for the test set, compute the percentage of correct predictions using the highest probability prediction. \n",
    "\n",
    "If your accuracy is over 90%, great work, but see if you can push a bit further! \n",
    "If your accuracy is under 90%, you'll need to make improvements.\n",
    "Go back and check your model architecture, loss function, and optimizer to make sure they're appropriate for an image classification task."
   ]
  },
  {
   "cell_type": "code",
   "execution_count": 21,
   "metadata": {},
   "outputs": [
    {
     "name": "stdout",
     "output_type": "stream",
     "text": [
      "Test accuracy: 97.55% Test loss: 0.08449\n"
     ]
    }
   ],
   "source": [
    "with torch.no_grad():\n",
    "    test_loss = 0.0\n",
    "    test_correct = 0\n",
    "    \n",
    "    for images, labels in test_loader:\n",
    "        images, labels = images.to(device), labels.to(device)\n",
    "        outputs = model(images)\n",
    "        loss = criterion(outputs, labels)\n",
    "    \n",
    "        # Compute validation loss\n",
    "        _, preds = torch.max(outputs.data, 1)\n",
    "        test_correct += (preds == labels).sum().item()\n",
    "        test_loss += loss.item()\n",
    "    print(f'Test accuracy: {test_correct / test_loader.dataset.data.shape[0] * 100:.2f}% Test loss: {test_loss/len(test_loader):.5f}')"
   ]
  },
  {
   "cell_type": "markdown",
   "metadata": {},
   "source": [
    "## Improving your model\n",
    "\n",
    "Once your model is done training, try tweaking your hyperparameters and training again below to improve your accuracy on the test set!"
   ]
  },
  {
   "cell_type": "code",
   "execution_count": 22,
   "metadata": {},
   "outputs": [
    {
     "name": "stdout",
     "output_type": "stream",
     "text": [
      "Epoch: 1 Training accuracy: 99.07% Training loss: 0.02918\n",
      "Epoch: 1 Validation accuracy: 97.21% Validation loss: 0.10398\n",
      "================================================================================================\n",
      "Epoch: 2 Training accuracy: 99.20% Training loss: 0.02490\n",
      "Epoch: 2 Validation accuracy: 97.43% Validation loss: 0.09378\n",
      "================================================================================================\n",
      "Epoch: 3 Training accuracy: 99.28% Training loss: 0.02232\n",
      "Epoch: 3 Validation accuracy: 97.43% Validation loss: 0.09347\n",
      "================================================================================================\n",
      "Epoch: 4 Training accuracy: 99.35% Training loss: 0.02094\n",
      "Epoch: 4 Validation accuracy: 97.39% Validation loss: 0.09963\n",
      "================================================================================================\n",
      "Epoch: 5 Training accuracy: 99.33% Training loss: 0.02130\n",
      "Epoch: 5 Validation accuracy: 97.29% Validation loss: 0.10378\n",
      "================================================================================================\n",
      "Epoch: 6 Training accuracy: 99.38% Training loss: 0.01935\n",
      "Epoch: 6 Validation accuracy: 97.49% Validation loss: 0.09727\n",
      "================================================================================================\n",
      "Epoch: 7 Training accuracy: 99.50% Training loss: 0.01689\n",
      "Epoch: 7 Validation accuracy: 97.16% Validation loss: 0.11198\n",
      "================================================================================================\n",
      "Epoch: 8 Training accuracy: 99.44% Training loss: 0.01784\n",
      "Epoch: 8 Validation accuracy: 97.51% Validation loss: 0.10260\n",
      "================================================================================================\n",
      "Epoch: 9 Training accuracy: 99.51% Training loss: 0.01580\n",
      "Epoch: 9 Validation accuracy: 97.24% Validation loss: 0.11034\n",
      "================================================================================================\n",
      "Epoch: 10 Training accuracy: 99.50% Training loss: 0.01488\n",
      "Epoch: 10 Validation accuracy: 97.66% Validation loss: 0.10519\n",
      "================================================================================================\n"
     ]
    }
   ],
   "source": [
    "# Change the learning rate and the optimizer as well\n",
    "optimizer = optim.Adam(model.parameters(), lr=0.0003)\n",
    "\n",
    "#  Run training again\n",
    "epochs =10\n",
    "\n",
    "train_loss_vals = []\n",
    "validation_loss_vals = []\n",
    "\n",
    "for epoch in range(epochs):\n",
    "    model.train()\n",
    "    train_loss = 0.0\n",
    "    train_correct = 0\n",
    "    \n",
    "    for images, labels in train_loader:\n",
    "        # Send to gpu if available\n",
    "        images, labels = images.to(device), labels.to(device)\n",
    "        \n",
    "        # Reset the gradient\n",
    "        optimizer.zero_grad()\n",
    "        \n",
    "        # Get outputs\n",
    "        outputs = model(images)\n",
    "        # logsoft = nn.Softmax(dim=1)\n",
    "        # Compute the error\n",
    "        loss = criterion(outputs, labels)\n",
    "        \n",
    "        # Backpropagate the error and perform gradient descent\n",
    "        loss.backward()\n",
    "        optimizer.step()\n",
    "        \n",
    "        # Compute train loss \n",
    "        _, preds = torch.max(outputs.data, 1)\n",
    "        train_correct += (preds == labels).sum().item()\n",
    "        train_loss += loss.item()\n",
    "        \n",
    "    print(f'Epoch: {epoch + 1} Training accuracy: {train_correct / train_loader.dataset.data.shape[0] * 100:.2f}% Training loss: {train_loss/len(train_loader):.5f}')\n",
    "    train_loss_vals.append(train_loss/len(train_loader))\n",
    "    \n",
    "    validation_loss = 0.0\n",
    "    validation_correct = 0\n",
    "    \n",
    "    #Set model to eval mode\n",
    "    model.eval()\n",
    "    \n",
    "    # Run validation loop\n",
    "    for images, labels in test_loader:\n",
    "        # Send to gpu\n",
    "        images, labels = images.to(device), labels.to(device)\n",
    "        \n",
    "        # Get outputs from feedforward\n",
    "        outputs = model(images)\n",
    "        \n",
    "        # Compute error\n",
    "        # logsoft = nn.LogSoftmax(dim=1)\n",
    "        loss = criterion(outputs, labels)\n",
    "        \n",
    "        # Compute validation loss\n",
    "        _, preds = torch.max(outputs.data, 1)\n",
    "        validation_correct += (preds == labels).sum().item()\n",
    "        validation_loss += loss.item()\n",
    "        \n",
    "    print(f'Epoch: {epoch + 1} Validation accuracy: {validation_correct / test_loader.dataset.data.shape[0] * 100:.2f}% Validation loss: {validation_loss/len(test_loader):.5f}')\n",
    "    print(\"================================================================================================\")\n",
    "    validation_loss_vals.append(validation_loss/len(test_loader))"
   ]
  },
  {
   "cell_type": "code",
   "execution_count": 23,
   "metadata": {
    "tags": []
   },
   "outputs": [
    {
     "name": "stdout",
     "output_type": "stream",
     "text": [
      "Test accuracy: 97.66% Test loss: 0.10519\n"
     ]
    }
   ],
   "source": [
    "# Test the optimized model on the test set again\n",
    "with torch.no_grad():\n",
    "    test_loss = 0.0\n",
    "    test_correct = 0\n",
    "    \n",
    "    for images, labels in test_loader:\n",
    "        images, labels = images.to(device), labels.to(device)\n",
    "        outputs = model(images)\n",
    "        loss = criterion(outputs, labels)\n",
    "    \n",
    "        # Compute validation loss\n",
    "        _, preds = torch.max(outputs.data, 1)\n",
    "        test_correct += (preds == labels).sum().item()\n",
    "        test_loss += loss.item()\n",
    "    print(f'Test accuracy: {test_correct / test_loader.dataset.data.shape[0] * 100:.2f}% Test loss: {test_loss/len(test_loader):.5f}')"
   ]
  },
  {
   "cell_type": "markdown",
   "metadata": {},
   "source": [
    "## Saving your model\n",
    "Using `torch.save`, save your model for future loading."
   ]
  },
  {
   "cell_type": "code",
   "execution_count": 24,
   "metadata": {},
   "outputs": [],
   "source": [
    "torch.save(model, './digits_classifier.pt')"
   ]
  },
  {
   "cell_type": "code",
   "execution_count": null,
   "metadata": {},
   "outputs": [],
   "source": []
  }
 ],
 "metadata": {
  "kernelspec": {
   "display_name": "sagemaker-distribution:Python",
   "language": "python",
   "name": "conda-env-sagemaker-distribution-py"
  },
  "language_info": {
   "codemirror_mode": {
    "name": "ipython",
    "version": 3
   },
   "file_extension": ".py",
   "mimetype": "text/x-python",
   "name": "python",
   "nbconvert_exporter": "python",
   "pygments_lexer": "ipython3",
   "version": "3.8.17"
  }
 },
 "nbformat": 4,
 "nbformat_minor": 4
}
